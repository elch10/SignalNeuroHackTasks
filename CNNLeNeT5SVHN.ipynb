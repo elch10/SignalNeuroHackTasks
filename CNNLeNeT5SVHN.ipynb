{
  "nbformat": 4,
  "nbformat_minor": 0,
  "metadata": {
    "colab": {
      "name": "CNNLeNeT5SVHN.ipynb",
      "version": "0.3.2",
      "provenance": [],
      "collapsed_sections": []
    },
    "kernelspec": {
      "name": "python3",
      "display_name": "Python 3"
    },
    "accelerator": "GPU"
  },
  "cells": [
    {
      "cell_type": "code",
      "metadata": {
        "id": "tMrh2HIk076U",
        "colab_type": "code",
        "colab": {}
      },
      "source": [
        "from utils import *"
      ],
      "execution_count": 0,
      "outputs": []
    },
    {
      "cell_type": "code",
      "metadata": {
        "id": "ZVn9PfxdBIz-",
        "colab_type": "code",
        "colab": {}
      },
      "source": [
        "from collections import OrderedDict\n",
        "\n",
        "import numpy as np\n",
        "np.random.seed(42)\n",
        "\n",
        "import matplotlib.pyplot as plt\n",
        "%matplotlib inline\n",
        "\n",
        "import torch\n",
        "import torch.nn as nn\n",
        "from torch.autograd import Variable\n",
        "import torchvision.datasets as datasets\n",
        "import torchvision.transforms as transforms\n",
        "import os\n",
        "import torch.nn.functional as F\n",
        "import torch.optim as optim"
      ],
      "execution_count": 0,
      "outputs": []
    },
    {
      "cell_type": "code",
      "metadata": {
        "id": "jKBfmzL2BZrj",
        "colab_type": "code",
        "colab": {}
      },
      "source": [
        "trans = transforms.Compose([transforms.ToTensor(), transforms.Normalize((0.5,), (1.0,))])"
      ],
      "execution_count": 0,
      "outputs": []
    },
    {
      "cell_type": "code",
      "metadata": {
        "id": "58orrnUKBfep",
        "colab_type": "code",
        "colab": {}
      },
      "source": [
        "root = './data'\n",
        "if not os.path.exists(root):\n",
        "    os.mkdir(root)\n"
      ],
      "execution_count": 0,
      "outputs": []
    },
    {
      "cell_type": "code",
      "metadata": {
        "id": "kKRiyw8Rxaw5",
        "colab_type": "code",
        "outputId": "ba0619b2-02c3-4da2-8cd7-c60ece9a0161",
        "colab": {
          "base_uri": "https://localhost:8080/",
          "height": 86
        }
      },
      "source": [
        "train_set = datasets.SVHN('./', \n",
        "                       transform=transforms.Compose([\n",
        "                           transforms.ToTensor(),\n",
        "                           transforms.Normalize(mean=[0.43,0.44,0.47],\n",
        "                                               std=[0.20,0.20,0.20])                           \n",
        "                       ]), download=True )\n",
        "\n",
        "test_set = datasets.SVHN('./', split='test', transform=transforms.Compose([\n",
        "                           transforms.ToTensor(),\n",
        "                           transforms.Normalize(mean=[0.43,0.44,0.47],\n",
        "                                               std=[0.20,0.20,0.20])                           \n",
        "                       ]), download=True )\n"
      ],
      "execution_count": 0,
      "outputs": [
        {
          "output_type": "stream",
          "text": [
            "\r0it [00:00, ?it/s]"
          ],
          "name": "stderr"
        },
        {
          "output_type": "stream",
          "text": [
            "Downloading http://ufldl.stanford.edu/housenumbers/train_32x32.mat to ./train_32x32.mat\n"
          ],
          "name": "stdout"
        },
        {
          "output_type": "stream",
          "text": [
            "182042624it [00:09, 18598659.77it/s]                               \n",
            "0it [00:00, ?it/s]"
          ],
          "name": "stderr"
        },
        {
          "output_type": "stream",
          "text": [
            "Downloading http://ufldl.stanford.edu/housenumbers/test_32x32.mat to ./test_32x32.mat\n"
          ],
          "name": "stdout"
        },
        {
          "output_type": "stream",
          "text": [
            "64282624it [00:07, 8766600.53it/s]                              \n"
          ],
          "name": "stderr"
        }
      ]
    },
    {
      "cell_type": "code",
      "metadata": {
        "id": "YcaIjuvRBfXd",
        "colab_type": "code",
        "colab": {}
      },
      "source": [
        "batch_size = 60\n",
        "\n",
        "train_loader = torch.utils.data.DataLoader(\n",
        "                 dataset=train_set,\n",
        "                 batch_size=batch_size,\n",
        "                 shuffle=True)\n",
        "\n",
        "test_loader = torch.utils.data.DataLoader(\n",
        "                 dataset=test_set,\n",
        "                 batch_size=batch_size,\n",
        "                 shuffle=False)"
      ],
      "execution_count": 0,
      "outputs": []
    },
    {
      "cell_type": "code",
      "metadata": {
        "id": "163vlcRDXstL",
        "colab_type": "code",
        "colab": {}
      },
      "source": [
        "class LeNet5(nn.Module):\n",
        "  def __init__(self):\n",
        "      super(LeNet5, self).__init__()\n",
        "      self.c1    = create_maskable_module(nn.Conv2d(3, 6, kernel_size=(5, 5)))\n",
        "      self.relu1 = nn.ReLU()\n",
        "      self.s2    = nn.MaxPool2d(kernel_size=(2, 2), stride=2)\n",
        "      \n",
        "      self.c3    = create_maskable_module(nn.Conv2d(6, 16, kernel_size=(5, 5)))\n",
        "      self.relu3 = nn.ReLU()\n",
        "      self.s4    = nn.MaxPool2d(kernel_size=(2, 2), stride=2)\n",
        "      \n",
        "      self.c5    = create_maskable_module(nn.Conv2d(16, 120, kernel_size=(5, 5)))\n",
        "      self.relu5 = nn.ReLU()\n",
        "      \n",
        "      self.fc = nn.Sequential(OrderedDict([\n",
        "          ('f6', create_maskable_module(nn.Linear(120, 84))),\n",
        "          ('relu6', nn.ReLU()),\n",
        "          ('f7', create_maskable_module(nn.Linear(84, 10))),\n",
        "      ]))\n",
        "      \n",
        "      self.init_params = self.state_dict()\n",
        "      \n",
        "  def forward(self, img):\n",
        "      output = self.c1(img)\n",
        "      output = self.relu1(output)\n",
        "      output = self.s2(output)\n",
        "      output = self.c3(output)\n",
        "      output = self.relu3(output)\n",
        "      output = self.s4(output)\n",
        "      output = self.c5(output)\n",
        "      output = self.relu5(output)\n",
        "      \n",
        "      output = output.view(img.size(0), -1)\n",
        "      output = self.fc(output)\n",
        "\n",
        "      return output\n",
        "    \n",
        "  def set_masks(self, masks):\n",
        "      self.c1.set_mask(masks[0])\n",
        "      self.c3.set_mask(masks[1])\n",
        "      self.c5.set_mask(masks[2])    \n",
        "      self.fc.f6.set_mask(masks[3])\n",
        "      self.fc.f7.set_mask(masks[4])\n",
        "      \n",
        "  def reset_parameters(self):\n",
        "    self.load_state_dict(self.init_params)\n",
        "    \n",
        "  def init_parameters(self):\n",
        "    for name in self.init_params.keys():\n",
        "      yield self.init_params[name]"
      ],
      "execution_count": 0,
      "outputs": []
    },
    {
      "cell_type": "code",
      "metadata": {
        "id": "fygPtfCI1JJS",
        "colab_type": "code",
        "outputId": "31320cd1-9a53-4986-bf88-8b7252045ea5",
        "colab": {
          "base_uri": "https://localhost:8080/",
          "height": 607
        }
      },
      "source": [
        "%%time\n",
        "net = LeNet5()\n",
        "\n",
        "if torch.cuda.is_available():\n",
        "    print('CUDA enabled.')\n",
        "    net.cuda()\n",
        "\n",
        "# Retrain\n",
        "criterion = nn.CrossEntropyLoss()\n",
        "optimizer = torch.optim.SGD(net.parameters(), lr=1e-2,\n",
        "                                weight_decay=0.0001)\n",
        "\n",
        "history = train_one_shot(net, criterion, optimizer, \n",
        "                         prepare_epochs=10, prune_epochs=10,\n",
        "                         prune_percent=25, train_loader=train_loader,\n",
        "                         val_loader=test_loader)\n",
        "\n",
        "print(\"--- After retraining ---\")\n",
        "print(\"Accuracy: {}\".format(compute_accuracy(net, test_loader)))"
      ],
      "execution_count": 42,
      "outputs": [
        {
          "output_type": "stream",
          "text": [
            "CUDA enabled.\n",
            "Preparing: Train before prune\n",
            "Training epoch 0\n",
            "Training epoch 1\n",
            "Training epoch 2\n",
            "Training epoch 3\n",
            "Training epoch 4\n",
            "Training epoch 5\n",
            "Training epoch 6\n",
            "Training epoch 7\n",
            "Training epoch 8\n",
            "Training epoch 9\n",
            "Pruning...\n",
            "Layer 1 | Conv layer | 5.56% parameters pruned\n",
            "Layer 2 | Conv layer | 12.50% parameters pruned\n",
            "Layer 3 | Conv layer | 28.27% parameters pruned\n",
            "Layer 4 | Linear layer | 14.74% parameters pruned\n",
            "Layer 5 | Linear layer | 7.38% parameters pruned\n",
            "Current pruning rate: 24.91%\n",
            "Train after prune\n",
            "Training epoch 0\n",
            "Training epoch 1\n",
            "Training epoch 2\n",
            "Training epoch 3\n",
            "Training epoch 4\n",
            "Training epoch 5\n",
            "Training epoch 6\n",
            "Training epoch 7\n",
            "Training epoch 8\n",
            "Training epoch 9\n",
            "--- After retraining ---\n",
            "Accuracy: 0.8697756607252612\n",
            "CPU times: user 5min 49s, sys: 6.07 s, total: 5min 55s\n",
            "Wall time: 5min 56s\n"
          ],
          "name": "stdout"
        }
      ]
    },
    {
      "cell_type": "code",
      "metadata": {
        "id": "z3w1dSM12DnU",
        "colab_type": "code",
        "outputId": "87787f45-1027-413b-8bb7-88b85f841c70",
        "colab": {
          "base_uri": "https://localhost:8080/",
          "height": 392
        }
      },
      "source": [
        "plt.figure(figsize=(15, 6))\n",
        "for i, key in enumerate(['train_loss', 'validation_accuracy']):\n",
        "  plt.subplot(1, 2, i+1)\n",
        "  for stage in ['train', 'after_prune']:\n",
        "    plt.plot(history[stage][key], label=stage)\n",
        "  plt.ylabel(key)\n",
        "  plt.xlabel('epoch')\n",
        "  plt.legend()"
      ],
      "execution_count": 43,
      "outputs": [
        {
          "output_type": "display_data",
          "data": {
            "image/png": "[encoded data removed]",
            "text/plain": [
              "<Figure size 1080x432 with 2 Axes>"
            ]
          },
          "metadata": {
            "tags": []
          }
        }
      ]
    },
    {
      "cell_type": "code",
      "metadata": {
        "id": "Nh6ti0wBPiwn",
        "colab_type": "code",
        "outputId": "ef7eef23-831d-453a-a6e3-0860f8d48ce0",
        "colab": {
          "base_uri": "https://localhost:8080/",
          "height": 297
        }
      },
      "source": [
        "visualize(net.fc.f6.weight, title = \"Fully Connected 1\")"
      ],
      "execution_count": 44,
      "outputs": [
        {
          "output_type": "display_data",
          "data": {
            "image/png": "[encoded data removed]",
            "text/plain": [
              "<Figure size 432x288 with 2 Axes>"
            ]
          },
          "metadata": {
            "tags": []
          }
        }
      ]
    },
    {
      "cell_type": "code",
      "metadata": {
        "id": "eUr8L0q1Uo9T",
        "colab_type": "code",
        "outputId": "441e5075-e6bd-4867-d2ba-7d12480205c9",
        "colab": {
          "base_uri": "https://localhost:8080/",
          "height": 297
        }
      },
      "source": [
        "visualize(net.c3.weight, title = \"Convolution 3\")"
      ],
      "execution_count": 45,
      "outputs": [
        {
          "output_type": "display_data",
          "data": {
            "image/png": "[encoded data removed]",
            "text/plain": [
              "<Figure size 432x288 with 2 Axes>"
            ]
          },
          "metadata": {
            "tags": []
          }
        }
      ]
    }
  ]
}